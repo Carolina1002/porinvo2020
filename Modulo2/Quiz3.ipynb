{
 "cells": [
  {
   "cell_type": "code",
   "execution_count": 1,
   "metadata": {},
   "outputs": [],
   "source": [
    "import pandas as pd"
   ]
  },
  {
   "cell_type": "code",
   "execution_count": 2,
   "metadata": {},
   "outputs": [
    {
     "data": {
      "text/html": [
       "<div>\n",
       "<style scoped>\n",
       "    .dataframe tbody tr th:only-of-type {\n",
       "        vertical-align: middle;\n",
       "    }\n",
       "\n",
       "    .dataframe tbody tr th {\n",
       "        vertical-align: top;\n",
       "    }\n",
       "\n",
       "    .dataframe thead th {\n",
       "        text-align: right;\n",
       "    }\n",
       "</style>\n",
       "<table border=\"1\" class=\"dataframe\">\n",
       "  <thead>\n",
       "    <tr style=\"text-align: right;\">\n",
       "      <th></th>\n",
       "      <th>Prob</th>\n",
       "      <th>A</th>\n",
       "      <th>B</th>\n",
       "      <th>C</th>\n",
       "    </tr>\n",
       "  </thead>\n",
       "  <tbody>\n",
       "    <tr>\n",
       "      <th>0</th>\n",
       "      <td>0.2</td>\n",
       "      <td>-0.20</td>\n",
       "      <td>-0.05</td>\n",
       "      <td>0.05</td>\n",
       "    </tr>\n",
       "    <tr>\n",
       "      <th>1</th>\n",
       "      <td>0.3</td>\n",
       "      <td>0.05</td>\n",
       "      <td>0.10</td>\n",
       "      <td>0.03</td>\n",
       "    </tr>\n",
       "    <tr>\n",
       "      <th>2</th>\n",
       "      <td>0.5</td>\n",
       "      <td>0.40</td>\n",
       "      <td>0.15</td>\n",
       "      <td>0.02</td>\n",
       "    </tr>\n",
       "  </tbody>\n",
       "</table>\n",
       "</div>"
      ],
      "text/plain": [
       "   Prob     A     B     C\n",
       "0   0.2 -0.20 -0.05  0.05\n",
       "1   0.3  0.05  0.10  0.03\n",
       "2   0.5  0.40  0.15  0.02"
      ]
     },
     "execution_count": 2,
     "metadata": {},
     "output_type": "execute_result"
    }
   ],
   "source": [
    "tabla = pd.DataFrame({'Prob': [0.2, 0.3, 0.5],\n",
    "                      'A': [-0.2, 0.05, 0.4],\n",
    "                      'B': [-0.05, 0.1, 0.15],\n",
    "                      'C': [0.05, 0.03, 0.02]\n",
    "                     })\n",
    "tabla"
   ]
  },
  {
   "cell_type": "code",
   "execution_count": 3,
   "metadata": {},
   "outputs": [
    {
     "data": {
      "text/plain": [
       "(0.175, 0.095, 0.029000000000000005)"
      ]
     },
     "execution_count": 3,
     "metadata": {},
     "output_type": "execute_result"
    }
   ],
   "source": [
    "ErA = (tabla['Prob'] * tabla['A']).sum()\n",
    "ErB = (tabla['Prob'] * tabla['B']).sum()\n",
    "ErC = (tabla['Prob'] * tabla['C']).sum()\n",
    "ErA, ErB, ErC"
   ]
  },
  {
   "cell_type": "markdown",
   "metadata": {},
   "source": [
    "# 1."
   ]
  },
  {
   "cell_type": "code",
   "execution_count": 4,
   "metadata": {},
   "outputs": [
    {
     "data": {
      "text/plain": [
       "0.1138"
      ]
     },
     "execution_count": 4,
     "metadata": {},
     "output_type": "execute_result"
    }
   ],
   "source": [
    "0.4 * ErA + 0.4 * ErB + 0.2 * ErC"
   ]
  },
  {
   "cell_type": "markdown",
   "metadata": {},
   "source": [
    "# 2."
   ]
  },
  {
   "cell_type": "code",
   "execution_count": 5,
   "metadata": {},
   "outputs": [
    {
     "data": {
      "text/plain": [
       "0.09966666666666668"
      ]
     },
     "execution_count": 5,
     "metadata": {},
     "output_type": "execute_result"
    }
   ],
   "source": [
    "(ErA + ErB + ErC) / 3"
   ]
  },
  {
   "cell_type": "markdown",
   "metadata": {},
   "source": [
    "# 3.\n",
    "Un inversionista tiene un capital total para invertir de $\\$50,000$, y quiere invertir en un portafolio con tres activos A, B y C, cuyos rendimientos esperados son $E[R_A]=20\\%$, $E[R_B]=15\\%$ y $E[R_C]=17\\%$, respectivamente. Si el inversionista elige invertir $\\$5,000$ en el activo A, $\\$22,500$ en el activo B y $\\$22,500$ en el activo C, ¿cuál es el rendimiento esperado de su portafolio?"
   ]
  },
  {
   "cell_type": "code",
   "execution_count": 6,
   "metadata": {},
   "outputs": [
    {
     "data": {
      "text/plain": [
       "0.16400000000000003"
      ]
     },
     "execution_count": 6,
     "metadata": {},
     "output_type": "execute_result"
    }
   ],
   "source": [
    "wA = 5000 / 50000\n",
    "wB = 22500 / 50000\n",
    "wC = 22500 / 50000\n",
    "wA * 0.2 + wB * 0.15 + wC * 0.17"
   ]
  },
  {
   "cell_type": "markdown",
   "metadata": {},
   "source": [
    "# 4.\n",
    "Un inversionista tiene un capital total para invertir de $\\$50,000$, y quiere invertir en un portafolio con tres activos A, B y C, cuyos rendimientos esperados son $E[R_A]=20\\%$, $E[R_B]=15\\%$ y $E[R_C]=17\\%$, respectivamente. Si el inversionista elige invertir $\\$10,000$ en el activo A, $\\$20,000$ en el activo B y $\\$20,000$ en el activo C, ¿cuál es el rendimiento esperado de su portafolio?"
   ]
  },
  {
   "cell_type": "code",
   "execution_count": 7,
   "metadata": {},
   "outputs": [
    {
     "data": {
      "text/plain": [
       "0.168"
      ]
     },
     "execution_count": 7,
     "metadata": {},
     "output_type": "execute_result"
    }
   ],
   "source": [
    "wA = 10000 / 50000\n",
    "wB = 20000 / 50000\n",
    "wC = 20000 / 50000\n",
    "wA * 0.2 + wB * 0.15 + wC * 0.17"
   ]
  },
  {
   "cell_type": "markdown",
   "metadata": {},
   "source": [
    "# 5."
   ]
  },
  {
   "cell_type": "code",
   "execution_count": 8,
   "metadata": {},
   "outputs": [
    {
     "data": {
      "text/plain": [
       "(0.016875, -0.0026250000000000006, -0.0008550000000000002)"
      ]
     },
     "execution_count": 8,
     "metadata": {},
     "output_type": "execute_result"
    }
   ],
   "source": [
    "sAB = (tabla['Prob'] * (tabla['A'] - ErA) * (tabla['B'] - ErB)).sum()\n",
    "sAC = (tabla['Prob'] * (tabla['A'] - ErA) * (tabla['C'] - ErC)).sum()\n",
    "sCB = (tabla['Prob'] * (tabla['C'] - ErC) * (tabla['B'] - ErB)).sum()\n",
    "sAB, sAC, sCB"
   ]
  },
  {
   "cell_type": "markdown",
   "metadata": {},
   "source": [
    "# 6. "
   ]
  },
  {
   "cell_type": "code",
   "execution_count": 9,
   "metadata": {},
   "outputs": [
    {
     "data": {
      "text/plain": [
       "(0.2410912690248239, 0.07566372975210779, 0.011357816691600547)"
      ]
     },
     "execution_count": 9,
     "metadata": {},
     "output_type": "execute_result"
    }
   ],
   "source": [
    "sA = (tabla['Prob'] * (tabla['A'] - ErA)**2).sum()**0.5\n",
    "sB = (tabla['Prob'] * (tabla['B'] - ErB)**2).sum()**0.5\n",
    "sC = (tabla['Prob'] * (tabla['C'] - ErC)**2).sum()**0.5\n",
    "sA, sB, sC"
   ]
  },
  {
   "cell_type": "code",
   "execution_count": 10,
   "metadata": {},
   "outputs": [
    {
     "data": {
      "text/plain": [
       "(0.9250699063292455, -0.9586343124133594, -0.9949093540256491)"
      ]
     },
     "execution_count": 10,
     "metadata": {},
     "output_type": "execute_result"
    }
   ],
   "source": [
    "rAB = sAB / (sA * sB)\n",
    "rAC = sAC / (sA * sC)\n",
    "rCB = sCB / (sC * sB)\n",
    "rAB,  rAC, rCB"
   ]
  },
  {
   "cell_type": "markdown",
   "metadata": {},
   "source": [
    "# 7."
   ]
  },
  {
   "cell_type": "code",
   "execution_count": 11,
   "metadata": {},
   "outputs": [],
   "source": [
    "wA = 0.5\n",
    "wC = 0.5"
   ]
  },
  {
   "cell_type": "code",
   "execution_count": 12,
   "metadata": {},
   "outputs": [
    {
     "data": {
      "text/plain": [
       "(0.102, 0.11511298797268708)"
      ]
     },
     "execution_count": 12,
     "metadata": {},
     "output_type": "execute_result"
    }
   ],
   "source": [
    "ErP = wA * ErA + wC * ErC\n",
    "sP = ((wA * sA)**2 + 2 * wA * wC * sAC + (wC * sC)**2)**0.5\n",
    "ErP, sP"
   ]
  },
  {
   "cell_type": "code",
   "execution_count": null,
   "metadata": {},
   "outputs": [],
   "source": []
  }
 ],
 "metadata": {
  "kernelspec": {
   "display_name": "Python 3",
   "language": "python",
   "name": "python3"
  },
  "language_info": {
   "codemirror_mode": {
    "name": "ipython",
    "version": 3
   },
   "file_extension": ".py",
   "mimetype": "text/x-python",
   "name": "python",
   "nbconvert_exporter": "python",
   "pygments_lexer": "ipython3",
   "version": "3.7.6"
  }
 },
 "nbformat": 4,
 "nbformat_minor": 4
}
